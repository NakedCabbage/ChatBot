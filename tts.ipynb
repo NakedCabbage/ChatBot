{
  "nbformat": 4,
  "nbformat_minor": 0,
  "metadata": {
    "colab": {
      "provenance": [],
      "include_colab_link": true
    },
    "kernelspec": {
      "name": "python3",
      "display_name": "Python 3"
    },
    "language_info": {
      "name": "python"
    }
  },
  "cells": [
    {
      "cell_type": "markdown",
      "metadata": {
        "id": "view-in-github",
        "colab_type": "text"
      },
      "source": [
        "<a href=\"https://colab.research.google.com/github/NakedCabbage/ChatBot/blob/main/tts.ipynb\" target=\"_parent\"><img src=\"https://colab.research.google.com/assets/colab-badge.svg\" alt=\"Open In Colab\"/></a>"
      ]
    },
    {
      "cell_type": "code",
      "execution_count": 9,
      "metadata": {
        "colab": {
          "base_uri": "https://localhost:8080/"
        },
        "id": "C1kIMOfrkKxe",
        "outputId": "40e55862-9c2b-4614-816e-515741fedd01"
      },
      "outputs": [
        {
          "output_type": "stream",
          "name": "stdout",
          "text": [
            "Requirement already satisfied: simpleaudio in /usr/local/lib/python3.10/dist-packages (1.0.4)\n"
          ]
        }
      ],
      "source": [
        "!pip install simpleaudio"
      ]
    },
    {
      "cell_type": "code",
      "source": [
        "!pip install python-dotenv"
      ],
      "metadata": {
        "colab": {
          "base_uri": "https://localhost:8080/"
        },
        "id": "TZ06kkX9ktsU",
        "outputId": "5c3139a3-14d8-4d74-d7a6-63893a9d426d"
      },
      "execution_count": 10,
      "outputs": [
        {
          "output_type": "stream",
          "name": "stdout",
          "text": [
            "Requirement already satisfied: python-dotenv in /usr/local/lib/python3.10/dist-packages (1.0.0)\n"
          ]
        }
      ]
    },
    {
      "cell_type": "code",
      "source": [
        "pip install pyht"
      ],
      "metadata": {
        "colab": {
          "base_uri": "https://localhost:8080/"
        },
        "id": "mxaqxHzsYcOt",
        "outputId": "fb4f6c95-9671-44e8-a320-6282ec33686e"
      },
      "execution_count": 11,
      "outputs": [
        {
          "output_type": "stream",
          "name": "stdout",
          "text": [
            "Requirement already satisfied: pyht in /usr/local/lib/python3.10/dist-packages (0.0.16)\n",
            "Requirement already satisfied: grpcio<2.0.0,>=1.58.0 in /usr/local/lib/python3.10/dist-packages (from pyht) (1.59.2)\n",
            "Requirement already satisfied: protobuf<5.0.0,>=4.24.3 in /usr/local/lib/python3.10/dist-packages (from pyht) (4.25.0)\n",
            "Requirement already satisfied: requests<3.0.0,>=2.31.0 in /usr/local/lib/python3.10/dist-packages (from pyht) (2.31.0)\n",
            "Requirement already satisfied: charset-normalizer<4,>=2 in /usr/local/lib/python3.10/dist-packages (from requests<3.0.0,>=2.31.0->pyht) (3.3.2)\n",
            "Requirement already satisfied: idna<4,>=2.5 in /usr/local/lib/python3.10/dist-packages (from requests<3.0.0,>=2.31.0->pyht) (3.4)\n",
            "Requirement already satisfied: urllib3<3,>=1.21.1 in /usr/local/lib/python3.10/dist-packages (from requests<3.0.0,>=2.31.0->pyht) (2.0.7)\n",
            "Requirement already satisfied: certifi>=2017.4.17 in /usr/local/lib/python3.10/dist-packages (from requests<3.0.0,>=2.31.0->pyht) (2023.7.22)\n"
          ]
        }
      ]
    },
    {
      "cell_type": "code",
      "source": [],
      "metadata": {
        "id": "3wX4cKKoKG5C"
      },
      "execution_count": 11,
      "outputs": []
    },
    {
      "cell_type": "code",
      "source": [
        "import numpy as np\n",
        "import wave\n",
        "import simpleaudio as sa\n",
        "from pyht import Client\n",
        "from dotenv import load_dotenv\n",
        "from pyht.client import TTSOptions\n",
        "import os\n",
        "import asyncio\n",
        "import time\n",
        "import threading\n",
        "import select\n",
        "import sys\n",
        "\n",
        "load_dotenv()\n",
        "\n",
        "client = Client(\n",
        "    user_id=\"vS27ywpzcSa2u3aYKMb0cu7ysi32\",\n",
        "    api_key=\"ac01e4316b6e44ac84cd4daee10f0b99\",\n",
        ")\n",
        "options = TTSOptions(voice=\"s3://voice-cloning-zero-shot/d9ff78ba-d016-47f6-b0ef-dd630f59414e/female-cs/manifest.json\")\n",
        "data = list(client.tts(\"Can you tell me your account email or, ah your phone number?\", options))\n",
        "\n",
        "def save_audio_as_wav(audio_data, sample_rate=24000, filename=\"output.wav\"):\n",
        "    # audio_data should be a NumPy array containing the audio samples\n",
        "    # sample_rate is the number of samples per second (e.g., 44100 for 44.1 kHz)\n",
        "\n",
        "    # Check if the data is in the correct format (NumPy array)\n",
        "    if not isinstance(audio_data, np.ndarray):\n",
        "        raise ValueError(\"Audio data must be a NumPy array\")\n",
        "\n",
        "    # Check if the data is in the correct data type (float, int, etc.)\n",
        "    if audio_data.dtype not in (np.float16, np.float32, np.int16, np.int32):\n",
        "        raise ValueError(\"Unsupported data type. Use float16, float32, int16, or int32\")\n",
        "\n",
        "    # Create a WAV file\n",
        "    with wave.open(filename, 'wb') as wf:\n",
        "        wf.setnchannels(1)  # 1 channel for mono, 2 channels for stereo\n",
        "        wf.setsampwidth(audio_data.itemsize)\n",
        "        wf.setframerate(sample_rate)\n",
        "        wf.writeframes(audio_data.tobytes())\n",
        "\n",
        "def play_and_save_audio(data):\n",
        "    buff_size = 10485760\n",
        "    ptr = 0\n",
        "    start_time = time.time()\n",
        "    buffer = np.empty(buff_size, np.float16)\n",
        "    for i, chunk in enumerate(data):\n",
        "        if i == 0:\n",
        "            start_time = time.time()\n",
        "            continue  # Drop the first response, we don't want a header.\n",
        "        elif i == 1:\n",
        "            print(\"First audio byte received in:\", time.time() - start_time)\n",
        "        for sample in np.frombuffer(chunk, np.float16):\n",
        "            buffer[ptr] = sample\n",
        "            ptr += 1\n",
        "    save_audio_as_wav(buffer[:ptr])\n",
        "\n",
        "# Call play_and_save_audio instead of play_audio\n",
        "play_and_save_audio(data)\n",
        "print(\"HI\")"
      ],
      "metadata": {
        "colab": {
          "base_uri": "https://localhost:8080/"
        },
        "id": "vGu2uFgjlPQE",
        "outputId": "0641dc13-ef7a-497f-d292-b931a665dda5"
      },
      "execution_count": 12,
      "outputs": [
        {
          "output_type": "stream",
          "name": "stdout",
          "text": [
            "First audio byte received in: 9.5367431640625e-07\n"
          ]
        }
      ]
    },
    {
      "cell_type": "markdown",
      "source": [],
      "metadata": {
        "id": "0WXXRRIJncs7"
      }
    }
  ]
}